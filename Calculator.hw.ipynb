{
 "cells": [
  {
   "cell_type": "code",
   "execution_count": null,
   "id": "dde9d742",
   "metadata": {},
   "outputs": [
    {
     "name": "stdout",
     "output_type": "stream",
     "text": [
      "1 Addition\n",
      "2 Subtraction\n",
      "3 Multiplication\n",
      "4 Division\n"
     ]
    }
   ],
   "source": [
    "# 1 Addition\n",
    "# 2 Subtraction\n",
    "# 3 Multiplication\n",
    "# 4 Division\n",
    "\n",
    "print(\"1 Addition\")\n",
    "print(\"2 Subtraction\")\n",
    "print(\"3 Multiplication\")\n",
    "print(\"4 Division\")\n",
    "\n",
    "operation = int(input(\"Select operation\"))\n",
    "\n",
    "if operation == 1:\n",
    "    num1 = int(input(\"Enter first number:\"))\n",
    "    num2 = int(input(\"Enter second number:\"))\n",
    "    print(\"The sum is\", int(num1) + int(num2))\n",
    "    \n",
    "elif operation == 2:\n",
    "    num1 = int(input(\"Enter first number:\"))\n",
    "    num2 = int(input(\"Enter second number:\"))\n",
    "    print(\"The difference is\", int(num1) - int(num2))\n",
    "    \n",
    "elif operation == 3:\n",
    "    num1 = int(input(\"Enter first number:\"))\n",
    "    num2 = int(input(\"Enter second number:\"))\n",
    "    print(\"The product is\", int(num1) * int(num2))\n",
    "                                            \n",
    "elif operation == 4:\n",
    "    num1 = int(input(\"Enter first number:\"))\n",
    "    num2 = int(input(\"Enter second number:\"))\n",
    "    print(\"The Result is\", int(num1) / int(num2))\n",
    "                \n",
    "else:\n",
    "    print(\"Invalid Operation:\")\n",
    "    \n",
    "    \n",
    "    "
   ]
  },
  {
   "cell_type": "code",
   "execution_count": null,
   "id": "1d21abcf",
   "metadata": {},
   "outputs": [],
   "source": []
  },
  {
   "cell_type": "code",
   "execution_count": null,
   "id": "28f60810",
   "metadata": {},
   "outputs": [],
   "source": []
  }
 ],
 "metadata": {
  "kernelspec": {
   "display_name": "Python 3 (ipykernel)",
   "language": "python",
   "name": "python3"
  },
  "language_info": {
   "codemirror_mode": {
    "name": "ipython",
    "version": 3
   },
   "file_extension": ".py",
   "mimetype": "text/x-python",
   "name": "python",
   "nbconvert_exporter": "python",
   "pygments_lexer": "ipython3",
   "version": "3.8.9"
  }
 },
 "nbformat": 4,
 "nbformat_minor": 5
}
